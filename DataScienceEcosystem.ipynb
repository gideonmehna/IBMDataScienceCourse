{
  "cells": [
    {
      "cell_type": "markdown",
      "metadata": {
        "id": "DQkqIBVHl0JI"
      },
      "source": [
        "# Data Science Tools and Ecosystem\n"
      ]
    },
    {
      "cell_type": "markdown",
      "source": [
        "## Author\n",
        "Gideon Mehna"
      ],
      "metadata": {
        "id": "yHhmqF89oaox"
      }
    },
    {
      "cell_type": "markdown",
      "metadata": {
        "id": "rrcaD2K9l0JK"
      },
      "source": [
        "In this notebook, Data Science Tools and Ecosystem are summarized.\n"
      ]
    },
    {
      "cell_type": "markdown",
      "source": [
        "**Objectives**\n",
        "- List popular languages for Data Science\n",
        "- List commonly used libraries by Data Scientists\n",
        "- List open source development environments used by Data Scientists\n",
        "- A few examples of evaluation arithmetic in python"
      ],
      "metadata": {
        "id": "Z_Ngu-4Zm9ay"
      }
    },
    {
      "cell_type": "markdown",
      "metadata": {
        "id": "J7BkD-d_l0JK"
      },
      "source": [
        "Some of the popular languages that Data Scientists use are:\n",
        "1. Python\n",
        "2. R\n",
        "3. Scala\n",
        "4. Julia"
      ]
    },
    {
      "cell_type": "markdown",
      "metadata": {
        "id": "vkxC7JeRl0JL"
      },
      "source": [
        "Some of the commonly used libraries used by Data Scientists include:\n",
        "1. Pandas and Numpy\n",
        "2. ggplot\n",
        "3. Plotly"
      ]
    },
    {
      "cell_type": "markdown",
      "metadata": {
        "id": "8RA9Opd2l0JL"
      },
      "source": [
        "Three development environment open source tools used in data science.\n",
        "\n",
        "| Development Environments |\n",
        "|---------------------------|\n",
        "| Google Colab |\n",
        "| VS Code |\n",
        "| Anaconda |\n",
        "| IBM Watson Studio |\n"
      ]
    },
    {
      "cell_type": "markdown",
      "metadata": {
        "id": "X_eWQLkrl0JM"
      },
      "source": [
        "### Below are a few examples of evaluating arithmetic expressions in Python."
      ]
    },
    {
      "cell_type": "code",
      "execution_count": 1,
      "metadata": {
        "vscode": {
          "languageId": "plaintext"
        },
        "colab": {
          "base_uri": "https://localhost:8080/"
        },
        "id": "Kob9sSAVl0JM",
        "outputId": "f41be165-d5a3-4a33-ea5e-e8d7d3da6d71"
      },
      "outputs": [
        {
          "output_type": "execute_result",
          "data": {
            "text/plain": [
              "17"
            ]
          },
          "metadata": {},
          "execution_count": 1
        }
      ],
      "source": [
        "# This a simple arithmetic expression to mutiply then add integers.\n",
        "(3*4)+5"
      ]
    },
    {
      "cell_type": "code",
      "execution_count": 4,
      "metadata": {
        "vscode": {
          "languageId": "plaintext"
        },
        "colab": {
          "base_uri": "https://localhost:8080/"
        },
        "id": "x3D1eZ3ql0JN",
        "outputId": "831b864a-2d5a-47a8-ecda-b93ccac75cec"
      },
      "outputs": [
        {
          "output_type": "stream",
          "name": "stdout",
          "text": [
            "3.3333333333333335 hours\n"
          ]
        }
      ],
      "source": [
        "# This will convert 200 minutes to hours by diving by 60.\n",
        "min = 200\n",
        "hours = min / 60\n",
        "print(f\"{hours} hours\")"
      ]
    }
  ],
  "metadata": {
    "language_info": {
      "name": "python"
    },
    "colab": {
      "provenance": []
    },
    "kernelspec": {
      "name": "python3",
      "display_name": "Python 3"
    }
  },
  "nbformat": 4,
  "nbformat_minor": 0
}